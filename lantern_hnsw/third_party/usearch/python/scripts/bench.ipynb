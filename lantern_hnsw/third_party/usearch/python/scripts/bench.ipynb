{
 "cells": [
  {
   "cell_type": "code",
   "execution_count": null,
   "metadata": {},
   "outputs": [],
   "source": [
    "!pip install faiss-cpu numba pandas plotly nbformat jinja2 kaleido tqdm scikit-learn scipy matplotlib"
   ]
  },
  {
   "cell_type": "code",
   "execution_count": 1,
   "metadata": {},
   "outputs": [],
   "source": [
    "from bench import *\n",
    "import plotly.graph_objects as go"
   ]
  },
  {
   "cell_type": "code",
   "execution_count": 6,
   "metadata": {},
   "outputs": [
    {
     "data": {
      "text/plain": [
       "('auto', 'auto', 'auto')"
      ]
     },
     "execution_count": 6,
     "metadata": {},
     "output_type": "execute_result"
    }
   ],
   "source": [
    "from usearch.index import Index\n",
    "\n",
    "Index(ndim=256, metric=\"cos\", dtype=\"f32\").hardware_acceleration, Index(ndim=256, metric=\"cos\", dtype=\"f16\").hardware_acceleration, Index(ndim=256, metric=\"cos\", dtype=\"i8\").hardware_acceleration"
   ]
  },
  {
   "cell_type": "code",
   "execution_count": null,
   "metadata": {},
   "outputs": [],
   "source": [
    "def speed_chart(df, title):\n",
    "    subtitles = [\n",
    "        f'{n}, recall@1 ~{r*100:.2f}%'\n",
    "        for n, r in zip(df['names'], df['recall_at_one'])\n",
    "    ]\n",
    "    fig = go.Figure(\n",
    "        data=[\n",
    "            go.Bar(name='Add', x=subtitles, y=df['add_per_second']),\n",
    "            go.Bar(name='Search', x=subtitles, y=df['search_per_second']),\n",
    "        ])\n",
    "    fig.update_layout(\n",
    "        width=1000,\n",
    "        height=1000,\n",
    "        barmode='group',\n",
    "        title=dict(\n",
    "            text=title,\n",
    "        ),\n",
    "        legend=dict(\n",
    "            orientation='h',\n",
    "            entrywidth=70,\n",
    "            yanchor='bottom',\n",
    "            y=1.02,\n",
    "            xanchor='right',\n",
    "            x=1,\n",
    "        ),\n",
    "    )\n",
    "    fig.write_image(title + '.png')\n",
    "    return fig"
   ]
  },
  {
   "cell_type": "code",
   "execution_count": null,
   "metadata": {},
   "outputs": [],
   "source": [
    "from usearch.eval import Dataset\n",
    "data = Dataset.build(\n",
    "    vectors='../../datasets/wiki_1M/base.1M.fbin',\n",
    "    queries='../../datasets/wiki_1M/query.public.100K.fbin',\n",
    "    neighbors='../../datasets/wiki_1M/groundtruth.public.100K.ibin',\n",
    ")"
   ]
  },
  {
   "cell_type": "code",
   "execution_count": null,
   "metadata": {},
   "outputs": [],
   "source": [
    "eval_default = Evaluation.for_dataset(data)\n",
    "results_default = bench_speed(eval_default, jit=True)\n",
    "results_default"
   ]
  },
  {
   "cell_type": "code",
   "execution_count": null,
   "metadata": {},
   "outputs": [],
   "source": [
    "speed_chart(results_default, 'USearch vs FAISS Speed')"
   ]
  },
  {
   "cell_type": "code",
   "execution_count": null,
   "metadata": {},
   "outputs": [],
   "source": [
    "eval_sliced = Evaluation.for_dataset(data, batch_size=256)\n",
    "results_sliced = bench_speed(eval_sliced, jit=True)\n",
    "results_sliced"
   ]
  },
  {
   "cell_type": "code",
   "execution_count": null,
   "metadata": {},
   "outputs": [],
   "source": [
    "speed_chart(results_sliced, 'USearch vs FAISS Speed with 256 Batch Size')"
   ]
  },
  {
   "cell_type": "code",
   "execution_count": null,
   "metadata": {},
   "outputs": [],
   "source": [
    "eval_clustered = Evaluation.for_dataset(data, clusters=10_000)\n",
    "len(eval_clustered.tasks)"
   ]
  },
  {
   "cell_type": "code",
   "execution_count": null,
   "metadata": {},
   "outputs": [],
   "source": [
    "results_clustered = bench_speed(eval_clustered)\n",
    "results_clustered"
   ]
  },
  {
   "cell_type": "code",
   "execution_count": null,
   "metadata": {},
   "outputs": [],
   "source": [
    "speed_chart(results_clustered, 'USearch vs FAISS Speed on Clustered Data')"
   ]
  },
  {
   "cell_type": "code",
   "execution_count": null,
   "metadata": {},
   "outputs": [],
   "source": []
  }
 ],
 "metadata": {
  "kernelspec": {
   "display_name": "usearch-test",
   "language": "python",
   "name": "python3"
  },
  "language_info": {
   "codemirror_mode": {
    "name": "ipython",
    "version": 3
   },
   "file_extension": ".py",
   "mimetype": "text/x-python",
   "name": "python",
   "nbconvert_exporter": "python",
   "pygments_lexer": "ipython3",
   "version": "3.11.5"
  },
  "orig_nbformat": 4
 },
 "nbformat": 4,
 "nbformat_minor": 2
}
